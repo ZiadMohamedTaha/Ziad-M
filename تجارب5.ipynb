{
 "cells": [
  {
   "cell_type": "code",
   "execution_count": 2,
   "metadata": {},
   "outputs": [
    {
     "name": "stdout",
     "output_type": "stream",
     "text": [
      "well come\n"
     ]
    }
   ],
   "source": [
    "print (\"well come\")"
   ]
  },
  {
   "cell_type": "code",
   "execution_count": 4,
   "metadata": {},
   "outputs": [
    {
     "name": "stdout",
     "output_type": "stream",
     "text": [
      "hi\n"
     ]
    }
   ],
   "source": [
    "_my_famely=5\n",
    "#these is a commen\n",
    "\"\"\"these is acomen explane a python in anaconda or Jopeter to do a programs in python\"\"\"\n",
    "print (\"hi\")"
   ]
  },
  {
   "cell_type": "code",
   "execution_count": 7,
   "metadata": {},
   "outputs": [
    {
     "data": {
      "text/plain": [
       "1"
      ]
     },
     "execution_count": 7,
     "metadata": {},
     "output_type": "execute_result"
    }
   ],
   "source": [
    "n=1\n",
    "def Ziad(n):\n",
    "    if n<=1:\n",
    "        return 1\n",
    "    else:\n",
    "        return Ziad(n-1)+ Ziad(n-2)\n",
    "Ziad(n)"
   ]
  },
  {
   "cell_type": "code",
   "execution_count": null,
   "metadata": {},
   "outputs": [
    {
     "name": "stdout",
     "output_type": "stream",
     "text": [
      "enter the number:  25\n",
      "فردي\n",
      "enter the number:  1\n",
      "فردي\n"
     ]
    }
   ],
   "source": [
    "for x in range(11):\n",
    "    num=float(input(\"enter the number:  \"))\n",
    "    if num%2==0:\n",
    "        print(\"زوجي\")\n",
    "    elif num%2!=0:\n",
    "        print(\"فردي\")\n"
   ]
  },
  {
   "cell_type": "code",
   "execution_count": null,
   "metadata": {},
   "outputs": [],
   "source": []
  }
 ],
 "metadata": {
  "kernelspec": {
   "display_name": "Python 3",
   "language": "python",
   "name": "python3"
  },
  "language_info": {
   "codemirror_mode": {
    "name": "ipython",
    "version": 3
   },
   "file_extension": ".py",
   "mimetype": "text/x-python",
   "name": "python",
   "nbconvert_exporter": "python",
   "pygments_lexer": "ipython3",
   "version": "3.8.3"
  }
 },
 "nbformat": 4,
 "nbformat_minor": 4
}
