{
 "cells": [
  {
   "cell_type": "code",
   "execution_count": 8,
   "metadata": {},
   "outputs": [
    {
     "name": "stdout",
     "output_type": "stream",
     "text": [
      "Hallo,Ziad you are 15years ald\n"
     ]
    }
   ],
   "source": [
    "# the format print\n",
    "name=\"Ziad\"\n",
    "age=15\n",
    "print (f\"Hallo,{name} you are {age}years ald\")"
   ]
  },
  {
   "cell_type": "code",
   "execution_count": 44,
   "metadata": {},
   "outputs": [
    {
     "name": "stdout",
     "output_type": "stream",
     "text": [
      "wellcome in python\u000b",
      " how are you\n"
     ]
    }
   ],
   "source": [
    "# control on the lins\n",
    "print(\"wellcome in python\\v how are you\")"
   ]
  },
  {
   "cell_type": "code",
   "execution_count": 34,
   "metadata": {},
   "outputs": [
    {
     "name": "stdout",
     "output_type": "stream",
     "text": [
      "lenghth of side_A 5\n",
      "lenghth of side_B 7\n",
      "lenghth of side_C 8\n",
      "ljk; 78125\n"
     ]
    }
   ],
   "source": [
    "side_a=5\n",
    "side_b=7\n",
    "side_c=8\n",
    "zs=side_a**side_b\n",
    "print(\"lenghth of side_A\",side_a)\n",
    "print(\"lenghth of side_B\",side_b)\n",
    "print(\"lenghth of side_C\",side_c)\n",
    "print(\"ljk;\",zs)\n",
    "\n"
   ]
  },
  {
   "cell_type": "code",
   "execution_count": null,
   "metadata": {},
   "outputs": [],
   "source": []
  }
 ],
 "metadata": {
  "kernelspec": {
   "display_name": "Python 3",
   "language": "python",
   "name": "python3"
  },
  "language_info": {
   "codemirror_mode": {
    "name": "ipython",
    "version": 3
   },
   "file_extension": ".py",
   "mimetype": "text/x-python",
   "name": "python",
   "nbconvert_exporter": "python",
   "pygments_lexer": "ipython3",
   "version": "3.8.3"
  }
 },
 "nbformat": 4,
 "nbformat_minor": 4
}
