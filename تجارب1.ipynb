{
 "cells": [
  {
   "cell_type": "code",
   "execution_count": null,
   "metadata": {
    "tags": [
     "نتائج",
     "الطلاب"
    ]
   },
   "outputs": [
    {
     "name": "stdout",
     "output_type": "stream",
     "text": [
      "name: Fatma\n",
      "result :98\n",
      "result:  A\n",
      "name: Ziad\n"
     ]
    }
   ],
   "source": [
    "#the result of student \n",
    "for x in range(100):\n",
    "    Z=input(\"name: \")\n",
    "    result=float(input(\"result :\"))\n",
    "    if result<=100 and result>=90:\n",
    "        print(\"result: \",\"A\")\n",
    "    elif result<=90 and result>=70:\n",
    "        print(\"result: \",\"B\")\n",
    "    elif result<=70 and result>=50:\n",
    "        print(\"result: \",\"C\")\n",
    "    else:\n",
    "        print(\"result: \",\"D\")"
   ]
  },
  {
   "cell_type": "code",
   "execution_count": 6,
   "metadata": {
    "tags": [
     "عدد",
     "عشوائي"
    ]
   },
   "outputs": [
    {
     "name": "stdout",
     "output_type": "stream",
     "text": [
      "2\n"
     ]
    }
   ],
   "source": [
    "# the number random\n",
    "import random\n",
    "print(random.randrange(4))"
   ]
  },
  {
   "cell_type": "code",
   "execution_count": 11,
   "metadata": {
    "tags": [
     "زوجي",
     "و",
     "فردي"
    ]
   },
   "outputs": [
    {
     "name": "stdout",
     "output_type": "stream",
     "text": [
      "enter the number:  2570\n",
      "زوجي\n"
     ]
    }
   ],
   "source": [
    "#Even and odd number\n",
    "num=int(input(\"enter the number:  \"))\n",
    "if num%2==0:\n",
    "    print(\"زوجي\")\n",
    "elif num%2!=0:\n",
    "    print(\"فردي\")"
   ]
  },
  {
   "cell_type": "code",
   "execution_count": 8,
   "metadata": {
    "tags": [
     "ضرب",
     "بالجمع",
     "المتكرر"
    ]
   },
   "outputs": [
    {
     "name": "stdout",
     "output_type": "stream",
     "text": [
      "enter the number:  2\n",
      "enter the number2:  3\n",
      "6\n"
     ]
    }
   ],
   "source": [
    "# Multiply by repeated addition\n",
    "num1=int(input(\"enter the number:  \"))\n",
    "num2=int(input(\"enter the number2:  \"))\n",
    "sum=0\n",
    "for i in range(num1):\n",
    "    sum+=num2\n",
    "print(sum)"
   ]
  },
  {
   "cell_type": "code",
   "execution_count": 7,
   "metadata": {
    "tags": [
     "عكس",
     "الارقام"
    ]
   },
   "outputs": [
    {
     "name": "stdout",
     "output_type": "stream",
     "text": [
      "enter the number:  456\n",
      "654\n"
     ]
    }
   ],
   "source": [
    "# Reverse numbers\n",
    "x=int(input(\"enter the number:  \"))\n",
    "y=0\n",
    "while x>0:\n",
    "    y=y*10+x%10\n",
    "    x//=10\n",
    "print(y)"
   ]
  },
  {
   "cell_type": "code",
   "execution_count": 3,
   "metadata": {
    "tags": [
     "يجمع",
     "حتي",
     "الرقم"
    ]
   },
   "outputs": [
    {
     "name": "stdout",
     "output_type": "stream",
     "text": [
      "enter the number:  7\n",
      "28\n"
     ]
    }
   ],
   "source": [
    "Addition from zero to numbers\n",
    "num=int(input(\"enter the number:  \"))\n",
    "sum=0\n",
    "for i in range(num):\n",
    "    sum+=i\n",
    "print(sum+num)"
   ]
  },
  {
   "cell_type": "code",
   "execution_count": 2,
   "metadata": {},
   "outputs": [
    {
     "name": "stdout",
     "output_type": "stream",
     "text": [
      "do you want add? غثس\n",
      "do you want add? yes\n",
      "enter the number:  123\n",
      "do you want add? yes\n",
      "enter the number:  75\n",
      "do you want add? no\n",
      "198\n"
     ]
    }
   ],
   "source": [
    "# the calcolator add the numbers\n",
    "sum=0 \n",
    "while True:\n",
    "    x=input(\"do you want add? \")\n",
    "    if x==\"yes\":\n",
    "        num=int(input(\"enter the number:  \"))\n",
    "        sum+=num\n",
    "    elif x==\"no\":\n",
    "        break\n",
    "print(sum)"
   ]
  },
  {
   "cell_type": "code",
   "execution_count": 1,
   "metadata": {},
   "outputs": [
    {
     "name": "stdout",
     "output_type": "stream",
     "text": [
      "4\n",
      "enter the result:  زوجي\n",
      "correct\n",
      "8\n",
      "enter the result:  زوجي\n",
      "correct\n",
      "1\n",
      "enter the result:  فردي\n",
      "correct\n",
      "3\n",
      "enter the result:  فردي\n",
      "correct\n",
      "4\n",
      "enter the result:  زوجي\n",
      "correct\n",
      "4\n",
      "enter the result:  زوجيط\n",
      "un correct\n",
      "10\n",
      "enter the result:  زوجي\n",
      "correct\n",
      "7\n",
      "enter the result:  فردي\n",
      "correct\n",
      "10\n",
      "enter the result:  زوجي\n",
      "correct\n",
      "3\n",
      "enter the result:  فدي\n",
      "un correct\n",
      "1\n",
      "enter the result:  فردي\n",
      "correct\n",
      "0\n",
      "enter the result:  زوجي\n",
      "correct\n",
      "6\n",
      "enter the result:  زوجي\n",
      "correct\n",
      "6\n",
      "enter the result:  زوجي\n",
      "correct\n",
      "2\n",
      "enter the result:  زوجي\n",
      "correct\n",
      "13\n"
     ]
    }
   ],
   "source": [
    "# random numbers To know even or odd\n",
    "import random\n",
    "count=0\n",
    "num=0\n",
    "z=0\n",
    "for x in range(15):\n",
    "    num=random.randrange(11)\n",
    "    print(num)\n",
    "    \n",
    "    z=input(\"enter the result:  \")\n",
    "    if z==\"زوجي\" and num%2==0:\n",
    "        print(\"correct\")\n",
    "        count+=1\n",
    "    elif z==\"فردي\" and num%2!=0:\n",
    "        print(\"correct\")\n",
    "        count+=1\n",
    "    else:\n",
    "        print(\"un correct\")    \n",
    "print(count)"
   ]
  },
  {
   "cell_type": "code",
   "execution_count": 1,
   "metadata": {},
   "outputs": [
    {
     "name": "stdout",
     "output_type": "stream",
     "text": [
      "enter the number:2\n",
      "enter the number:3\n",
      "6\n"
     ]
    }
   ],
   "source": [
    "#the operat multiplay but by don't use * in the code\n",
    "num = int (input (\"enter the number:\"))\n",
    "num2=int(input(\"enter the number:\"))\n",
    "sum=0\n",
    "for x in range(num):\n",
    "    sum+=num2\n",
    "print(sum)"
   ]
  },
  {
   "cell_type": "code",
   "execution_count": 4,
   "metadata": {},
   "outputs": [
    {
     "name": "stdout",
     "output_type": "stream",
     "text": [
      "enter your string:  asdhdsa\n",
      "correct\n"
     ]
    }
   ],
   "source": [
    "string=input(\"enter your string:  \")\n",
    "string2=string[::-1]\n",
    "if string2==string:\n",
    "    print(\"correct\")\n",
    "else:\n",
    "    print(\"un correct\")"
   ]
  },
  {
   "cell_type": "code",
   "execution_count": 13,
   "metadata": {},
   "outputs": [
    {
     "name": "stdout",
     "output_type": "stream",
     "text": [
      "Ziad Mohamed Taha\n",
      "Ahmed Mohamed Taha\n",
      "fatma Mohamed Tahawelcome   \n",
      "welcome   welcome \twelcome\n"
     ]
    }
   ],
   "source": [
    "f=open(\"C:\\\\Users\\\\Stu\\\\Desktop\\\\Ziad.txt\",\"a\")\n",
    "f.write(\" \\twelcome\")\n",
    "f.close()\n",
    "f=open(\"C:\\\\Users\\\\Stu\\\\Desktop\\\\Ziad.txt\",\"r\")\n",
    "print(f.read())"
   ]
  },
  {
   "cell_type": "code",
   "execution_count": null,
   "metadata": {},
   "outputs": [],
   "source": []
  },
  {
   "cell_type": "code",
   "execution_count": null,
   "metadata": {},
   "outputs": [],
   "source": []
  }
 ],
 "metadata": {
  "kernelspec": {
   "display_name": "Python 3",
   "language": "python",
   "name": "python3"
  },
  "language_info": {
   "codemirror_mode": {
    "name": "ipython",
    "version": 3
   },
   "file_extension": ".py",
   "mimetype": "text/x-python",
   "name": "python",
   "nbconvert_exporter": "python",
   "pygments_lexer": "ipython3",
   "version": "3.8.3"
  }
 },
 "nbformat": 4,
 "nbformat_minor": 4
}
