{
 "cells": [
  {
   "cell_type": "code",
   "execution_count": 4,
   "metadata": {},
   "outputs": [
    {
     "name": "stdout",
     "output_type": "stream",
     "text": [
      "The frest number:  5\n",
      "add 14.0\n",
      "thesubtract -4.0\n",
      "the multiply is:  10.0\n",
      "the division is:  1.6666666666666667\n",
      "20\n"
     ]
    }
   ],
   "source": [
    "num=float(input(\"The frest number:  \"))\n",
    "add=num+9\n",
    "print(\"add\",add)\n",
    "sub=num-9\n",
    "print(\"thesubtract\",sub)\n",
    "mul=num*2\n",
    "print(\"the multiply is: \",mul)\n",
    "if num !=0:\n",
    "    division =num/3\n",
    "else:\n",
    "    division=\"cannot divide by zero\"\n",
    "print(\"the division is: \",division)\n",
    "shift_right_result=int(num)<<2\n",
    "print(shift_right_result)"
   ]
  },
  {
   "cell_type": "code",
   "execution_count": 1,
   "metadata": {},
   "outputs": [
    {
     "name": "stdout",
     "output_type": "stream",
     "text": [
      "enter the frest number:  35\n",
      "ente the next number:  57\n",
      "the frest number not equal sacund number:\n",
      "the frest number less than sacund number:\n"
     ]
    }
   ],
   "source": [
    "# cases of the numbers\n",
    "num1=float(input(\"enter the frest number:  \"))\n",
    "num2=float(input(\"ente the next number:  \"))\n",
    "if num1==num2:\n",
    "    print(\"the frest number equal sacund number:  \")\n",
    "else:\n",
    "    print(\"the frest number not equal sacund number:\")\n",
    "if num1>num2:\n",
    "    print(\"the frest number greater than sacund number:\")\n",
    "else:\n",
    "    print(\"the frest number less than sacund number:\") \n",
    "if num1>=num2:\n",
    "    print(\"the frest number greater than or equal sacund number:\")"
   ]
  },
  {
   "cell_type": "code",
   "execution_count": 103,
   "metadata": {},
   "outputs": [
    {
     "name": "stdout",
     "output_type": "stream",
     "text": [
      "2008\n",
      "12\n"
     ]
    }
   ],
   "source": [
    "# the maximam of the number and minimam of the number\n",
    "x=[20,30,38,930.30,478,1000,12,1907,2008,1975]\n",
    "print(max(x))\n",
    "print(min(x)) "
   ]
  },
  {
   "cell_type": "code",
   "execution_count": 18,
   "metadata": {},
   "outputs": [
    {
     "name": "stdout",
     "output_type": "stream",
     "text": [
      "49\n"
     ]
    }
   ],
   "source": [
    "# the random numbers\n",
    "import random \n",
    "print(random.randrange(25,100))"
   ]
  },
  {
   "cell_type": "code",
   "execution_count": 2,
   "metadata": {},
   "outputs": [
    {
     "name": "stdout",
     "output_type": "stream",
     "text": [
      "enter the frest number:  19\n",
      "ente the next number:  303\n",
      "the frest number not equal sacund number:\n",
      "the frest number less than sacund number:\n",
      "the frest number less than or equal sacund number: \n"
     ]
    }
   ],
   "source": [
    "#calcolator\n",
    "num1=float(input(\"enter the frest number:  \"))\n",
    "num2=float(input(\"ente the next number:  \"))\n",
    "if num1==num2:\n",
    "    print(\"the frest number equal sacund number:  \")\n",
    "if num1!=num2:\n",
    "    print(\"the frest number not equal sacund number:\")\n",
    "if num1>num2:\n",
    "    print(\"the frest number greater than sacund number:\")\n",
    "if num1<num2 and num1<=num2:\n",
    "    print(\"the frest number less than sacund number:\") \n",
    "if num1>=num2:\n",
    "    print(\"the frest number greater than or equal sacund number: \")\n",
    "if num1<=num2:\n",
    "     print(\"the frest number less than or equal sacund number: \")"
   ]
  },
  {
   "cell_type": "code",
   "execution_count": 24,
   "metadata": {},
   "outputs": [
    {
     "name": "stdout",
     "output_type": "stream",
     "text": [
      "what is  45 x 36?   9235023\n",
      " the45 x 36 should be 1620\n",
      "what is  10 x 44?   9088888888573490\n",
      " the10 x 44 should be 440\n",
      "what is  3 x 45?   8488883094689\n",
      " the3 x 45 should be 135\n",
      "what is  7 x 46?   2655553261\n",
      " the7 x 46 should be 322\n",
      "what is  38 x 41?   587239\n",
      " the38 x 41 should be 1558\n",
      "what is  24 x 44?   78534837\n",
      " the24 x 44 should be 1056\n",
      "what is  16 x 44?   578382\n",
      " the16 x 44 should be 704\n",
      "what is  3 x 4?   2769\n",
      " the3 x 4 should be 12\n",
      "0\n"
     ]
    }
   ],
   "source": [
    "# the random numbers and Multiply two numbers\n",
    "import random\n",
    "z=0\n",
    "x=0\n",
    "count=0\n",
    "for x in range (8):\n",
    "    z=random.randrange(1,50)\n",
    "    x=random.randrange(1,50)\n",
    "    sum=z*x\n",
    "    res=int(input(f\"\"\"what is  {z} x {x}?   \"\"\"))\n",
    "    if res==sum:\n",
    "        print(\"correct\")\n",
    "        count+=1\n",
    "    elif res!=sum:\n",
    "        print(f\" the{z} x {x} should be {sum}\")\n",
    "print(count)"
   ]
  },
  {
   "cell_type": "code",
   "execution_count": 22,
   "metadata": {},
   "outputs": [
    {
     "name": "stdout",
     "output_type": "stream",
     "text": [
      "enter the number or text  KLH\n",
      "['KLH']\n"
     ]
    }
   ],
   "source": [
    "# add the object in the list\n",
    "my_list=[]\n",
    "num=input(\"enter the number or text  \")\n",
    "my_list.append(num)\n",
    "print(my_list)\n",
    "if num==int:\n",
    "    print(my_list)\n",
    "elif num==str:\n",
    "    print(my_list)"
   ]
  },
  {
   "cell_type": "code",
   "execution_count": null,
   "metadata": {},
   "outputs": [
    {
     "name": "stdout",
     "output_type": "stream",
     "text": [
      "what is  5 x 0?   0\n",
      "correct\n",
      "what is  5 x 1?   5\n",
      "correct\n",
      "what is  5 x 2?   10\n",
      "correct\n",
      "what is  5 x 3?   15\n",
      "correct\n"
     ]
    }
   ],
   "source": [
    "import random\n",
    "z=random.randrange(1,50)\n",
    "x=random.randrange(1,50)\n",
    "count=0\n",
    "for x in range (8):\n",
    "    sum=z*x\n",
    "    res=int(input(f\"what is  {z} x {x}?   \"))\n",
    "    if res==sum:\n",
    "        print(\"correct\")\n",
    "        count+=1\n",
    "    elif res!=sum:\n",
    "        print(f\" the{z} x {x} should be {sum}\")\n",
    "        print(count)\n"
   ]
  },
  {
   "cell_type": "code",
   "execution_count": null,
   "metadata": {},
   "outputs": [],
   "source": []
  }
 ],
 "metadata": {
  "kernelspec": {
   "display_name": "Python 3",
   "language": "python",
   "name": "python3"
  },
  "language_info": {
   "codemirror_mode": {
    "name": "ipython",
    "version": 3
   },
   "file_extension": ".py",
   "mimetype": "text/x-python",
   "name": "python",
   "nbconvert_exporter": "python",
   "pygments_lexer": "ipython3",
   "version": "3.8.3"
  }
 },
 "nbformat": 4,
 "nbformat_minor": 4
}
